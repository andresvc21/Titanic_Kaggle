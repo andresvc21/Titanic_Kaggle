{
  "nbformat": 4,
  "nbformat_minor": 0,
  "metadata": {
    "colab": {
      "name": "Titanic.ipynb",
      "provenance": [],
      "collapsed_sections": [],
      "toc_visible": true,
      "include_colab_link": true
    },
    "kernelspec": {
      "name": "python3",
      "display_name": "Python 3"
    },
    "language_info": {
      "name": "python"
    }
  },
  "cells": [
    {
      "cell_type": "markdown",
      "metadata": {
        "id": "view-in-github",
        "colab_type": "text"
      },
      "source": [
        "<a href=\"https://colab.research.google.com/github/andresvc21/Titanic_Kaggle/blob/main/Titanic_Kaggle.ipynb\" target=\"_parent\"><img src=\"https://colab.research.google.com/assets/colab-badge.svg\" alt=\"Open In Colab\"/></a>"
      ]
    },
    {
      "cell_type": "markdown",
      "metadata": {
        "id": "2EzovrKeQgnn"
      },
      "source": [
        "#**TITANIC**\n"
      ]
    },
    {
      "cell_type": "markdown",
      "metadata": {
        "id": "RqbCdtaAQ_ip"
      },
      "source": [
        "The sinking of the Titanic is one of the most infamous shipwrecks in history.\n",
        "\n",
        "On April 15, 1912, during her maiden voyage, the widely considered “unsinkable” RMS Titanic sank after colliding with an iceberg. Unfortunately, there weren’t enough lifeboats for everyone onboard, resulting in the death of 1502 out of 2224 passengers and crew.\n",
        "\n",
        "While there was some element of luck involved in surviving, it seems some groups of people were more likely to survive than others.\n",
        "\n",
        "In this challenge, we build a predictive model that answers the question: “what sorts of people were more likely to survive?” using passenger data (ie name, age, gender, socio-economic class, etc).\n",
        "\n",
        "Train.csv will contain the details of a subset of the passengers on board (891 to be exact) and importantly, will reveal whether they survived or not, also known as the “ground truth”.\n",
        "\n",
        "The test.csv dataset contains similar information but does not disclose the “ground truth” for each passenger. We'll upload this data to kaggle to see the results."
      ]
    },
    {
      "cell_type": "markdown",
      "metadata": {
        "id": "dXhzUo4nMC_c"
      },
      "source": [
        "\n",
        "# 1. Data Exploration"
      ]
    },
    {
      "cell_type": "code",
      "metadata": {
        "id": "G9txKl3xyVu_",
        "colab": {
          "base_uri": "https://localhost:8080/"
        },
        "outputId": "66e5ed29-a2d2-41b3-ee00-10d8e7707421"
      },
      "source": [
        "# Import relevant packages.\n",
        "import numpy as np\n",
        "import matplotlib.pyplot as plt\n",
        "import pandas as pd\n",
        "import os\n",
        "import seaborn as sns\n",
        "from sklearn import linear_model\n",
        "import missingno as msno\n",
        "import seaborn as sns\n",
        "from scipy.stats import pearsonr\n",
        "\n",
        "random_state = 2\n",
        "\n",
        "#Set Plot Style\n",
        "sns.set_style(\"dark\")\n",
        "\n",
        "#Want to see N columns during stats and head. If all columns change N to None\n",
        "pd.set_option('display.max_columns', None)\n",
        "\n",
        "#Import Data. Official source https://www.kaggle.com/c/titanic/data?select=test.csv\n",
        "train_data=pd.read_csv('train.csv')\n",
        "test_data=pd.read_csv('test.csv')\n",
        "\n",
        "print('---------------------------------------------------------')\n",
        "print('\\t\\tTrain Head')\n",
        "print('---------------------------------------------------------')\n",
        "print(train_data.head())\n",
        "\n",
        "print('---------------------------------------------------------')\n",
        "print('\\t\\tTest Head')\n",
        "print('---------------------------------------------------------')\n",
        "print(test_data.head())\n",
        "\n"
      ],
      "execution_count": null,
      "outputs": [
        {
          "output_type": "stream",
          "name": "stdout",
          "text": [
            "---------------------------------------------------------\n",
            "\t\tTrain Head\n",
            "---------------------------------------------------------\n",
            "   PassengerId  Survived  Pclass  \\\n",
            "0            1         0       3   \n",
            "1            2         1       1   \n",
            "2            3         1       3   \n",
            "3            4         1       1   \n",
            "4            5         0       3   \n",
            "\n",
            "                                                Name     Sex   Age  SibSp  \\\n",
            "0                            Braund, Mr. Owen Harris    male  22.0      1   \n",
            "1  Cumings, Mrs. John Bradley (Florence Briggs Th...  female  38.0      1   \n",
            "2                             Heikkinen, Miss. Laina  female  26.0      0   \n",
            "3       Futrelle, Mrs. Jacques Heath (Lily May Peel)  female  35.0      1   \n",
            "4                           Allen, Mr. William Henry    male  35.0      0   \n",
            "\n",
            "   Parch            Ticket     Fare Cabin Embarked  \n",
            "0      0         A/5 21171   7.2500   NaN        S  \n",
            "1      0          PC 17599  71.2833   C85        C  \n",
            "2      0  STON/O2. 3101282   7.9250   NaN        S  \n",
            "3      0            113803  53.1000  C123        S  \n",
            "4      0            373450   8.0500   NaN        S  \n",
            "---------------------------------------------------------\n",
            "\t\tTest Head\n",
            "---------------------------------------------------------\n",
            "   PassengerId  Pclass                                          Name     Sex  \\\n",
            "0          892       3                              Kelly, Mr. James    male   \n",
            "1          893       3              Wilkes, Mrs. James (Ellen Needs)  female   \n",
            "2          894       2                     Myles, Mr. Thomas Francis    male   \n",
            "3          895       3                              Wirz, Mr. Albert    male   \n",
            "4          896       3  Hirvonen, Mrs. Alexander (Helga E Lindqvist)  female   \n",
            "\n",
            "    Age  SibSp  Parch   Ticket     Fare Cabin Embarked  \n",
            "0  34.5      0      0   330911   7.8292   NaN        Q  \n",
            "1  47.0      1      0   363272   7.0000   NaN        S  \n",
            "2  62.0      0      0   240276   9.6875   NaN        Q  \n",
            "3  27.0      0      0   315154   8.6625   NaN        S  \n",
            "4  22.0      1      1  3101298  12.2875   NaN        S  \n"
          ]
        }
      ]
    },
    {
      "cell_type": "markdown",
      "metadata": {
        "id": "5EHkocqoS3nW"
      },
      "source": [
        "As expected each row of the table represents a specific passenger"
      ]
    },
    {
      "cell_type": "code",
      "metadata": {
        "colab": {
          "base_uri": "https://localhost:8080/"
        },
        "id": "vQnsgqsnAlc2",
        "outputId": "54f71213-1edf-4375-89ff-c4c610c6733d"
      },
      "source": [
        "#Columns\n",
        "list(train_data.columns)\n",
        "train_data.dtypes"
      ],
      "execution_count": null,
      "outputs": [
        {
          "output_type": "execute_result",
          "data": {
            "text/plain": [
              "PassengerId      int64\n",
              "Survived         int64\n",
              "Pclass           int64\n",
              "Name            object\n",
              "Sex             object\n",
              "Age            float64\n",
              "SibSp            int64\n",
              "Parch            int64\n",
              "Ticket          object\n",
              "Fare           float64\n",
              "Cabin           object\n",
              "Embarked        object\n",
              "dtype: object"
            ]
          },
          "metadata": {},
          "execution_count": 164
        }
      ]
    },
    {
      "cell_type": "markdown",
      "metadata": {
        "id": "fp0e5-13T81r"
      },
      "source": [
        "From here is easy to conclude that\n",
        "\n",
        "*   Survived is the phenomenon that we want to predict. It contains two classes: 1 if the passenger survived and 0 otherwise, therefore this use case is a binary classification problem.\n",
        "*   Age and Fare are numerical variables while the others are categorical.\n",
        "\n",
        "\n",
        "\n"
      ]
    },
    {
      "cell_type": "code",
      "metadata": {
        "colab": {
          "base_uri": "https://localhost:8080/",
          "height": 721
        },
        "id": "vyVpbmdnUfED",
        "outputId": "01640141-ebf1-45a4-868a-e8571493a5c2"
      },
      "source": [
        "#NAN First analysis\n",
        "train_data.isna().any()\n",
        "msno.bar(train_data)"
      ],
      "execution_count": null,
      "outputs": [
        {
          "output_type": "execute_result",
          "data": {
            "text/plain": [
              "<matplotlib.axes._subplots.AxesSubplot at 0x7f117b9f3550>"
            ]
          },
          "metadata": {},
          "execution_count": 165
        },
        {
          "output_type": "display_data",
          "data": {
            "image/png": "[encoded data removed]",
            "text/plain": [
              "<Figure size 1800x720 with 3 Axes>"
            ]
          },
          "metadata": {}
        }
      ]
    },
    {
      "cell_type": "markdown",
      "metadata": {
        "id": "cXT3RH6RUlSr"
      },
      "source": [
        "For the bar chart: On the left side of the plot, the y-axis scale ranges from 0.0 to 1.0, where 1.0 represents 100% data completeness. If the bar is less than this, it indicates that we have missing values within that column.\n",
        "On the right side of the plot, the scale is measured in index values. With the top right representing the maximum number of rows within the dataframe.\n",
        "\n",
        "*   Age, Cabin and Embarked contain NaN values\n",
        "\n"
      ]
    },
    {
      "cell_type": "code",
      "metadata": {
        "id": "sMoIJG2gVqya"
      },
      "source": [
        "#The Id should be that one of the passanger, doesn't make sense to consider this varible for the model\n",
        "train_data = train_data.set_index(\"PassengerId\")"
      ],
      "execution_count": null,
      "outputs": []
    },
    {
      "cell_type": "code",
      "metadata": {
        "colab": {
          "base_uri": "https://localhost:8080/",
          "height": 381
        },
        "id": "KKr9W488CGLs",
        "outputId": "ed7944b3-3161-4c56-c4bb-25b6bd793a81"
      },
      "source": [
        "train_data.describe(include = \"all\")"
      ],
      "execution_count": null,
      "outputs": [
        {
          "output_type": "execute_result",
          "data": {
            "text/html": [
              "<div>\n",
              "<style scoped>\n",
              "    .dataframe tbody tr th:only-of-type {\n",
              "        vertical-align: middle;\n",
              "    }\n",
              "\n",
              "    .dataframe tbody tr th {\n",
              "        vertical-align: top;\n",
              "    }\n",
              "\n",
              "    .dataframe thead th {\n",
              "        text-align: right;\n",
              "    }\n",
              "</style>\n",
              "<table border=\"1\" class=\"dataframe\">\n",
              "  <thead>\n",
              "    <tr style=\"text-align: right;\">\n",
              "      <th></th>\n",
              "      <th>Survived</th>\n",
              "      <th>Pclass</th>\n",
              "      <th>Name</th>\n",
              "      <th>Sex</th>\n",
              "      <th>Age</th>\n",
              "      <th>SibSp</th>\n",
              "      <th>Parch</th>\n",
              "      <th>Ticket</th>\n",
              "      <th>Fare</th>\n",
              "      <th>Cabin</th>\n",
              "      <th>Embarked</th>\n",
              "    </tr>\n",
              "  </thead>\n",
              "  <tbody>\n",
              "    <tr>\n",
              "      <th>count</th>\n",
              "      <td>891.000000</td>\n",
              "      <td>891.000000</td>\n",
              "      <td>891</td>\n",
              "      <td>891</td>\n",
              "      <td>714.000000</td>\n",
              "      <td>891.000000</td>\n",
              "      <td>891.000000</td>\n",
              "      <td>891</td>\n",
              "      <td>891.000000</td>\n",
              "      <td>204</td>\n",
              "      <td>889</td>\n",
              "    </tr>\n",
              "    <tr>\n",
              "      <th>unique</th>\n",
              "      <td>NaN</td>\n",
              "      <td>NaN</td>\n",
              "      <td>891</td>\n",
              "      <td>2</td>\n",
              "      <td>NaN</td>\n",
              "      <td>NaN</td>\n",
              "      <td>NaN</td>\n",
              "      <td>681</td>\n",
              "      <td>NaN</td>\n",
              "      <td>147</td>\n",
              "      <td>3</td>\n",
              "    </tr>\n",
              "    <tr>\n",
              "      <th>top</th>\n",
              "      <td>NaN</td>\n",
              "      <td>NaN</td>\n",
              "      <td>Porter, Mr. Walter Chamberlain</td>\n",
              "      <td>male</td>\n",
              "      <td>NaN</td>\n",
              "      <td>NaN</td>\n",
              "      <td>NaN</td>\n",
              "      <td>CA. 2343</td>\n",
              "      <td>NaN</td>\n",
              "      <td>C23 C25 C27</td>\n",
              "      <td>S</td>\n",
              "    </tr>\n",
              "    <tr>\n",
              "      <th>freq</th>\n",
              "      <td>NaN</td>\n",
              "      <td>NaN</td>\n",
              "      <td>1</td>\n",
              "      <td>577</td>\n",
              "      <td>NaN</td>\n",
              "      <td>NaN</td>\n",
              "      <td>NaN</td>\n",
              "      <td>7</td>\n",
              "      <td>NaN</td>\n",
              "      <td>4</td>\n",
              "      <td>644</td>\n",
              "    </tr>\n",
              "    <tr>\n",
              "      <th>mean</th>\n",
              "      <td>0.383838</td>\n",
              "      <td>2.308642</td>\n",
              "      <td>NaN</td>\n",
              "      <td>NaN</td>\n",
              "      <td>29.699118</td>\n",
              "      <td>0.523008</td>\n",
              "      <td>0.381594</td>\n",
              "      <td>NaN</td>\n",
              "      <td>32.204208</td>\n",
              "      <td>NaN</td>\n",
              "      <td>NaN</td>\n",
              "    </tr>\n",
              "    <tr>\n",
              "      <th>std</th>\n",
              "      <td>0.486592</td>\n",
              "      <td>0.836071</td>\n",
              "      <td>NaN</td>\n",
              "      <td>NaN</td>\n",
              "      <td>14.526497</td>\n",
              "      <td>1.102743</td>\n",
              "      <td>0.806057</td>\n",
              "      <td>NaN</td>\n",
              "      <td>49.693429</td>\n",
              "      <td>NaN</td>\n",
              "      <td>NaN</td>\n",
              "    </tr>\n",
              "    <tr>\n",
              "      <th>min</th>\n",
              "      <td>0.000000</td>\n",
              "      <td>1.000000</td>\n",
              "      <td>NaN</td>\n",
              "      <td>NaN</td>\n",
              "      <td>0.420000</td>\n",
              "      <td>0.000000</td>\n",
              "      <td>0.000000</td>\n",
              "      <td>NaN</td>\n",
              "      <td>0.000000</td>\n",
              "      <td>NaN</td>\n",
              "      <td>NaN</td>\n",
              "    </tr>\n",
              "    <tr>\n",
              "      <th>25%</th>\n",
              "      <td>0.000000</td>\n",
              "      <td>2.000000</td>\n",
              "      <td>NaN</td>\n",
              "      <td>NaN</td>\n",
              "      <td>20.125000</td>\n",
              "      <td>0.000000</td>\n",
              "      <td>0.000000</td>\n",
              "      <td>NaN</td>\n",
              "      <td>7.910400</td>\n",
              "      <td>NaN</td>\n",
              "      <td>NaN</td>\n",
              "    </tr>\n",
              "    <tr>\n",
              "      <th>50%</th>\n",
              "      <td>0.000000</td>\n",
              "      <td>3.000000</td>\n",
              "      <td>NaN</td>\n",
              "      <td>NaN</td>\n",
              "      <td>28.000000</td>\n",
              "      <td>0.000000</td>\n",
              "      <td>0.000000</td>\n",
              "      <td>NaN</td>\n",
              "      <td>14.454200</td>\n",
              "      <td>NaN</td>\n",
              "      <td>NaN</td>\n",
              "    </tr>\n",
              "    <tr>\n",
              "      <th>75%</th>\n",
              "      <td>1.000000</td>\n",
              "      <td>3.000000</td>\n",
              "      <td>NaN</td>\n",
              "      <td>NaN</td>\n",
              "      <td>38.000000</td>\n",
              "      <td>1.000000</td>\n",
              "      <td>0.000000</td>\n",
              "      <td>NaN</td>\n",
              "      <td>31.000000</td>\n",
              "      <td>NaN</td>\n",
              "      <td>NaN</td>\n",
              "    </tr>\n",
              "    <tr>\n",
              "      <th>max</th>\n",
              "      <td>1.000000</td>\n",
              "      <td>3.000000</td>\n",
              "      <td>NaN</td>\n",
              "      <td>NaN</td>\n",
              "      <td>80.000000</td>\n",
              "      <td>8.000000</td>\n",
              "      <td>6.000000</td>\n",
              "      <td>NaN</td>\n",
              "      <td>512.329200</td>\n",
              "      <td>NaN</td>\n",
              "      <td>NaN</td>\n",
              "    </tr>\n",
              "  </tbody>\n",
              "</table>\n",
              "</div>"
            ],
            "text/plain": [
              "          Survived      Pclass                            Name   Sex  \\\n",
              "count   891.000000  891.000000                             891   891   \n",
              "unique         NaN         NaN                             891     2   \n",
              "top            NaN         NaN  Porter, Mr. Walter Chamberlain  male   \n",
              "freq           NaN         NaN                               1   577   \n",
              "mean      0.383838    2.308642                             NaN   NaN   \n",
              "std       0.486592    0.836071                             NaN   NaN   \n",
              "min       0.000000    1.000000                             NaN   NaN   \n",
              "25%       0.000000    2.000000                             NaN   NaN   \n",
              "50%       0.000000    3.000000                             NaN   NaN   \n",
              "75%       1.000000    3.000000                             NaN   NaN   \n",
              "max       1.000000    3.000000                             NaN   NaN   \n",
              "\n",
              "               Age       SibSp       Parch    Ticket        Fare        Cabin  \\\n",
              "count   714.000000  891.000000  891.000000       891  891.000000          204   \n",
              "unique         NaN         NaN         NaN       681         NaN          147   \n",
              "top            NaN         NaN         NaN  CA. 2343         NaN  C23 C25 C27   \n",
              "freq           NaN         NaN         NaN         7         NaN            4   \n",
              "mean     29.699118    0.523008    0.381594       NaN   32.204208          NaN   \n",
              "std      14.526497    1.102743    0.806057       NaN   49.693429          NaN   \n",
              "min       0.420000    0.000000    0.000000       NaN    0.000000          NaN   \n",
              "25%      20.125000    0.000000    0.000000       NaN    7.910400          NaN   \n",
              "50%      28.000000    0.000000    0.000000       NaN   14.454200          NaN   \n",
              "75%      38.000000    1.000000    0.000000       NaN   31.000000          NaN   \n",
              "max      80.000000    8.000000    6.000000       NaN  512.329200          NaN   \n",
              "\n",
              "       Embarked  \n",
              "count       889  \n",
              "unique        3  \n",
              "top           S  \n",
              "freq        644  \n",
              "mean        NaN  \n",
              "std         NaN  \n",
              "min         NaN  \n",
              "25%         NaN  \n",
              "50%         NaN  \n",
              "75%         NaN  \n",
              "max         NaN  "
            ]
          },
          "metadata": {},
          "execution_count": 167
        }
      ]
    },
    {
      "cell_type": "code",
      "metadata": {
        "id": "3XsHeSdNp7vK"
      },
      "source": [
        "#Lets create a function to plot bar charts according to a feature\n",
        "def bar(column, stack):\n",
        "  survived=train_data[train_data[\"Survived\"]==1][column].value_counts()\n",
        "  dead=train_data[train_data[\"Survived\"]==0][column].value_counts()\n",
        "  df=pd.DataFrame([survived, dead])\n",
        "  df.index=[\"Survived\", \"Dead\"]\n",
        "  df.plot(kind=\"bar\", stacked=stack, figsize=(8,6))\n",
        "  plt.title(\"Survived vs Dead for \"+column)\n",
        "  plt.ylabel(\"Person Count\")\n",
        "  plt.xticks(rotation=0, horizontalalignment=\"center\")\n",
        "  plt.grid(axis = 'y', linestyle = '--', linewidth = 0.5)\n",
        "  plt.show()"
      ],
      "execution_count": null,
      "outputs": []
    },
    {
      "cell_type": "code",
      "metadata": {
        "colab": {
          "base_uri": "https://localhost:8080/",
          "height": 916
        },
        "id": "jTZyl4T9uwh1",
        "outputId": "0b5c589c-f886-4e43-e311-9171263531dd"
      },
      "source": [
        "# See people that survived according to sex\n",
        "print('---------------------------------------------------------')\n",
        "print('\\t\\tPercentage of Gendre of survivors')\n",
        "print('---------------------------------------------------------')\n",
        "print(train_data[['Sex', 'Survived']].groupby(['Sex']).mean(), '\\n')\n",
        "bar(\"Sex\", True)\n",
        "sns.set(rc={'figure.figsize':(8, 6)})\n",
        "sns.barplot(x=\"Sex\", y=\"Survived\", data=train_data, )"
      ],
      "execution_count": null,
      "outputs": [
        {
          "output_type": "stream",
          "name": "stdout",
          "text": [
            "---------------------------------------------------------\n",
            "\t\tPercentage of Gendre of survivors\n",
            "---------------------------------------------------------\n",
            "        Survived\n",
            "Sex             \n",
            "female  0.742038\n",
            "male    0.188908 \n",
            "\n"
          ]
        },
        {
          "output_type": "display_data",
          "data": {
            "image/png": "[encoded data removed]",
            "text/plain": [
              "<Figure size 576x432 with 1 Axes>"
            ]
          },
          "metadata": {}
        },
        {
          "output_type": "execute_result",
          "data": {
            "text/plain": [
              "<matplotlib.axes._subplots.AxesSubplot at 0x7f117b8bc490>"
            ]
          },
          "metadata": {},
          "execution_count": 169
        },
        {
          "output_type": "display_data",
          "data": {
            "image/png": "[encoded data removed]",
            "text/plain": [
              "<Figure size 576x432 with 1 Axes>"
            ]
          },
          "metadata": {}
        }
      ]
    },
    {
      "cell_type": "markdown",
      "metadata": {
        "id": "aFIqr96Hw_yV"
      },
      "source": [
        "From this figure it's posible to say that Women are more likely survived than Men. And this seems reasonable because of the rule \"First women and childrens\""
      ]
    },
    {
      "cell_type": "code",
      "metadata": {
        "colab": {
          "base_uri": "https://localhost:8080/",
          "height": 392
        },
        "id": "_CZHxKHhxVO4",
        "outputId": "0436e423-e9a7-44c0-ea52-ea13a613841e"
      },
      "source": [
        "bar('Pclass', True)"
      ],
      "execution_count": null,
      "outputs": [
        {
          "output_type": "display_data",
          "data": {
            "image/png": "[encoded data removed]",
            "text/plain": [
              "<Figure size 576x432 with 1 Axes>"
            ]
          },
          "metadata": {}
        }
      ]
    },
    {
      "cell_type": "markdown",
      "metadata": {
        "id": "2Bn8EwpTxgKY"
      },
      "source": [
        "The feature “Pclass” is how much fare a passanger paid for the tree trip. The figure confirms 1st class more likely survived than other classes while 3rd class more likely dead than other classes."
      ]
    },
    {
      "cell_type": "code",
      "metadata": {
        "colab": {
          "base_uri": "https://localhost:8080/",
          "height": 392
        },
        "id": "MlRCnbCju3wL",
        "outputId": "74198850-77c6-4709-de60-588f10fd18b2"
      },
      "source": [
        " #Lets Create some Age Groups \n",
        "\n",
        "train_data.loc[train_data['Age']<=10, 'Age_Group']='-10'\n",
        "train_data.loc[(train_data['Age']>10) & (train_data['Age']<=20) , 'Age_Group']='10 to 20'\n",
        "train_data.loc[(train_data['Age']>20) & (train_data['Age']<=30) , 'Age_Group']='20 to 30'\n",
        "train_data.loc[(train_data['Age']>30) & (train_data['Age']<=40) , 'Age_Group']='30 to 40'\n",
        "train_data.loc[(train_data['Age']>40) & (train_data['Age']<=50) , 'Age_Group']='40 to 50'\n",
        "train_data.loc[train_data['Age']>50, 'Age_Group']='-+50'\n",
        " \n",
        " bar(\"Age_Group\", False)"
      ],
      "execution_count": null,
      "outputs": [
        {
          "output_type": "display_data",
          "data": {
            "image/png": "[encoded data removed]",
            "text/plain": [
              "<Figure size 576x432 with 1 Axes>"
            ]
          },
          "metadata": {}
        }
      ]
    },
    {
      "cell_type": "markdown",
      "metadata": {
        "id": "zpHtwwQb5w2t"
      },
      "source": [
        "For age we need an unstacked bar maker more sense. And the former is code is to divide the passanger in agre groupps. Clearly, a larger fraction of children under 10 years old survived than died and the opposite for the group of age 20 to 30. To get more information about the age we can do a further exploration in the distribution"
      ]
    },
    {
      "cell_type": "code",
      "metadata": {
        "colab": {
          "base_uri": "https://localhost:8080/",
          "height": 426
        },
        "id": "JcE3PJDbAX6R",
        "outputId": "5c4d5c82-e8a7-4dd8-bf13-f625ad42b17a"
      },
      "source": [
        "\n",
        "### distribution\n",
        "fig = plt.figure(figsize = (8,6))\n",
        "plt.title('Age Vs Number of people onboard')\n",
        "plt.xlabel('Age')\n",
        "plt.ylabel('Number of People')\n",
        "ax = fig.gca()\n",
        "train_data['Age'].hist(bins=20, ax=ax)\n"
      ],
      "execution_count": null,
      "outputs": [
        {
          "output_type": "execute_result",
          "data": {
            "text/plain": [
              "<matplotlib.axes._subplots.AxesSubplot at 0x7f117b7a3550>"
            ]
          },
          "metadata": {},
          "execution_count": 172
        },
        {
          "output_type": "display_data",
          "data": {
            "image/png": "[encoded data removed]",
            "text/plain": [
              "<Figure size 576x432 with 1 Axes>"
            ]
          },
          "metadata": {}
        }
      ]
    },
    {
      "cell_type": "markdown",
      "metadata": {
        "id": "-8-E4AYeF8oy"
      },
      "source": [
        "The passengers were, on average, pretty young: the distribution is skewed towards the left side (the mean is 30 years old and the 75th percentile is 38)."
      ]
    },
    {
      "cell_type": "code",
      "metadata": {
        "colab": {
          "base_uri": "https://localhost:8080/",
          "height": 392
        },
        "id": "kuO7w6dnrlqZ",
        "outputId": "43f106f9-04d6-466b-e55d-ffbe87509a19"
      },
      "source": [
        "  bar(\"Parch\", True)"
      ],
      "execution_count": null,
      "outputs": [
        {
          "output_type": "display_data",
          "data": {
            "image/png": "[encoded data removed]",
            "text/plain": [
              "<Figure size 576x432 with 1 Axes>"
            ]
          },
          "metadata": {}
        }
      ]
    },
    {
      "cell_type": "markdown",
      "metadata": {
        "id": "o0_dzm4y6OVa"
      },
      "source": [
        "Other interesting category is Parch that refers to number of parents or children aboard the Titanic. A person aboard alone is more likely to dead. To further explore the bars chart is important to use pair plots as the followings:"
      ]
    },
    {
      "cell_type": "code",
      "metadata": {
        "colab": {
          "base_uri": "https://localhost:8080/",
          "height": 913
        },
        "id": "0p2a66451D74",
        "outputId": "d06d3f50-dcfa-401c-e0c6-548bfcd0956e"
      },
      "source": [
        "#Pairplot\n",
        "def corr_f(x, y, ax=None, **kws):\n",
        "  \"\"\"Plot the correlation coefficient in the top left hand corner of a plot.\"\"\"\n",
        "  r, _ = pearsonr(x, y)\n",
        "  ax = ax or plt.gca()\n",
        "  ax.annotate(f'ρ = {r:.2f}', xy=(.1, .9), xycoords=ax.transAxes, fontsize=12)\n",
        "  \n",
        "g = sns.PairGrid(train_data[['Survived', 'Pclass', 'SibSp', 'Parch', 'Fare']])\n",
        "g.map_upper(sns.scatterplot)\n",
        "g.map_lower(sns.kdeplot, fill=True)\n",
        "g.map_diag(sns.histplot, kde=True)\n",
        "g.map_lower(corr_f)"
      ],
      "execution_count": null,
      "outputs": [
        {
          "output_type": "execute_result",
          "data": {
            "text/plain": [
              "<seaborn.axisgrid.PairGrid at 0x7f117b7a3590>"
            ]
          },
          "metadata": {},
          "execution_count": 174
        },
        {
          "output_type": "display_data",
          "data": {
            "image/png": "[encoded data removed]",
            "text/plain": [
              "<Figure size 900x900 with 30 Axes>"
            ]
          },
          "metadata": {}
        }
      ]
    },
    {
      "cell_type": "code",
      "metadata": {
        "colab": {
          "base_uri": "https://localhost:8080/",
          "height": 398
        },
        "id": "RW5qD3lv4HPS",
        "outputId": "1804c5f0-b630-4f88-c6fe-ce1281313ac8"
      },
      "source": [
        "plt.figure(figsize=(16, 6))\n",
        "# Store heatmap object in a variable to easily access it when you want to include more features (such as title).\n",
        "# Set the range of values to be displayed on the colormap from -1 to 1, and set the annotation to True to display the correlation values on the heatmap.\n",
        "heatmap = sns.heatmap(train_data.corr(), vmin=-1, vmax=1, annot=True)\n",
        "# Give a title to the heatmap. Pad defines the distance of the title from the top of the heatmap.\n",
        "heatmap.set_title('Correlation Heatmap', fontdict={'fontsize':12}, pad=12);"
      ],
      "execution_count": null,
      "outputs": [
        {
          "output_type": "display_data",
          "data": {
            "image/png": "[encoded data removed]",
            "text/plain": [
              "<Figure size 1152x432 with 2 Axes>"
            ]
          },
          "metadata": {}
        }
      ]
    },
    {
      "cell_type": "markdown",
      "metadata": {
        "id": "ykOBiOZL9fHm"
      },
      "source": [
        "# 2. Cleaning Data"
      ]
    },
    {
      "cell_type": "code",
      "metadata": {
        "colab": {
          "base_uri": "https://localhost:8080/"
        },
        "id": "yEoDy6kaBNpz",
        "outputId": "c3109164-d42c-42f9-b588-41ea3be3b445"
      },
      "source": [
        "#checking if the data has null values\n",
        "print(pd.isnull(train_data).sum())"
      ],
      "execution_count": null,
      "outputs": [
        {
          "output_type": "stream",
          "name": "stdout",
          "text": [
            "Survived       0\n",
            "Pclass         0\n",
            "Name           0\n",
            "Sex            0\n",
            "Age          177\n",
            "SibSp          0\n",
            "Parch          0\n",
            "Ticket         0\n",
            "Fare           0\n",
            "Cabin        687\n",
            "Embarked       2\n",
            "Age_Group    177\n",
            "dtype: int64\n"
          ]
        }
      ]
    },
    {
      "cell_type": "code",
      "metadata": {
        "colab": {
          "base_uri": "https://localhost:8080/"
        },
        "id": "LRLxVQqW7N_E",
        "outputId": "566c4ceb-a4e3-438a-f3de-a29a7fd21ed0"
      },
      "source": [
        "# checking if Age colum has null values\n",
        "print(train_data['Age'].isnull().values.any()) #has null values\n",
        "\n",
        "# Filling the missing values of Age with the mean of the respective column\n",
        "values = {'Age': train_data['Age'].mean()}\n",
        "train_data.fillna(values, inplace=True)"
      ],
      "execution_count": null,
      "outputs": [
        {
          "output_type": "stream",
          "name": "stdout",
          "text": [
            "True\n"
          ]
        }
      ]
    },
    {
      "cell_type": "markdown",
      "metadata": {
        "id": "NpOSDP4bCtsU"
      },
      "source": [
        "In this case we decided to use de mean value for the age in the whole dataset. Other method is to replace the age in the train and test dataset only with the mean of the train dataset"
      ]
    },
    {
      "cell_type": "code",
      "metadata": {
        "colab": {
          "base_uri": "https://localhost:8080/"
        },
        "id": "y9mEeOFxAVg5",
        "outputId": "ac7ee88b-7b22-4115-d449-4a6dfa93aea3"
      },
      "source": [
        "#Sanity Check\n",
        "print(pd.isnull(train_data).sum())"
      ],
      "execution_count": null,
      "outputs": [
        {
          "output_type": "stream",
          "name": "stdout",
          "text": [
            "Survived       0\n",
            "Pclass         0\n",
            "Name           0\n",
            "Sex            0\n",
            "Age            0\n",
            "SibSp          0\n",
            "Parch          0\n",
            "Ticket         0\n",
            "Fare           0\n",
            "Cabin        687\n",
            "Embarked       2\n",
            "Age_Group    177\n",
            "dtype: int64\n"
          ]
        }
      ]
    },
    {
      "cell_type": "code",
      "metadata": {
        "colab": {
          "base_uri": "https://localhost:8080/",
          "height": 440
        },
        "id": "2h309ZAuCF4C",
        "outputId": "aab25217-fddd-4803-cd19-cab75ee2532c"
      },
      "source": [
        "# Sex is string, need to hot encode\n",
        "dummies = pd.get_dummies(train_data['Sex'], prefix='Sex', drop_first=True)\n",
        "train_data = pd.concat([train_data, dummies], axis=1)\n",
        "train_data"
      ],
      "execution_count": null,
      "outputs": [
        {
          "output_type": "execute_result",
          "data": {
            "text/html": [
              "<div>\n",
              "<style scoped>\n",
              "    .dataframe tbody tr th:only-of-type {\n",
              "        vertical-align: middle;\n",
              "    }\n",
              "\n",
              "    .dataframe tbody tr th {\n",
              "        vertical-align: top;\n",
              "    }\n",
              "\n",
              "    .dataframe thead th {\n",
              "        text-align: right;\n",
              "    }\n",
              "</style>\n",
              "<table border=\"1\" class=\"dataframe\">\n",
              "  <thead>\n",
              "    <tr style=\"text-align: right;\">\n",
              "      <th></th>\n",
              "      <th>Survived</th>\n",
              "      <th>Pclass</th>\n",
              "      <th>Name</th>\n",
              "      <th>Sex</th>\n",
              "      <th>Age</th>\n",
              "      <th>SibSp</th>\n",
              "      <th>Parch</th>\n",
              "      <th>Ticket</th>\n",
              "      <th>Fare</th>\n",
              "      <th>Cabin</th>\n",
              "      <th>Embarked</th>\n",
              "      <th>Age_Group</th>\n",
              "      <th>Sex_male</th>\n",
              "    </tr>\n",
              "    <tr>\n",
              "      <th>PassengerId</th>\n",
              "      <th></th>\n",
              "      <th></th>\n",
              "      <th></th>\n",
              "      <th></th>\n",
              "      <th></th>\n",
              "      <th></th>\n",
              "      <th></th>\n",
              "      <th></th>\n",
              "      <th></th>\n",
              "      <th></th>\n",
              "      <th></th>\n",
              "      <th></th>\n",
              "      <th></th>\n",
              "    </tr>\n",
              "  </thead>\n",
              "  <tbody>\n",
              "    <tr>\n",
              "      <th>1</th>\n",
              "      <td>0</td>\n",
              "      <td>3</td>\n",
              "      <td>Braund, Mr. Owen Harris</td>\n",
              "      <td>male</td>\n",
              "      <td>22.000000</td>\n",
              "      <td>1</td>\n",
              "      <td>0</td>\n",
              "      <td>A/5 21171</td>\n",
              "      <td>7.2500</td>\n",
              "      <td>NaN</td>\n",
              "      <td>S</td>\n",
              "      <td>20 to 30</td>\n",
              "      <td>1</td>\n",
              "    </tr>\n",
              "    <tr>\n",
              "      <th>2</th>\n",
              "      <td>1</td>\n",
              "      <td>1</td>\n",
              "      <td>Cumings, Mrs. John Bradley (Florence Briggs Th...</td>\n",
              "      <td>female</td>\n",
              "      <td>38.000000</td>\n",
              "      <td>1</td>\n",
              "      <td>0</td>\n",
              "      <td>PC 17599</td>\n",
              "      <td>71.2833</td>\n",
              "      <td>C85</td>\n",
              "      <td>C</td>\n",
              "      <td>30 to 40</td>\n",
              "      <td>0</td>\n",
              "    </tr>\n",
              "    <tr>\n",
              "      <th>3</th>\n",
              "      <td>1</td>\n",
              "      <td>3</td>\n",
              "      <td>Heikkinen, Miss. Laina</td>\n",
              "      <td>female</td>\n",
              "      <td>26.000000</td>\n",
              "      <td>0</td>\n",
              "      <td>0</td>\n",
              "      <td>STON/O2. 3101282</td>\n",
              "      <td>7.9250</td>\n",
              "      <td>NaN</td>\n",
              "      <td>S</td>\n",
              "      <td>20 to 30</td>\n",
              "      <td>0</td>\n",
              "    </tr>\n",
              "    <tr>\n",
              "      <th>4</th>\n",
              "      <td>1</td>\n",
              "      <td>1</td>\n",
              "      <td>Futrelle, Mrs. Jacques Heath (Lily May Peel)</td>\n",
              "      <td>female</td>\n",
              "      <td>35.000000</td>\n",
              "      <td>1</td>\n",
              "      <td>0</td>\n",
              "      <td>113803</td>\n",
              "      <td>53.1000</td>\n",
              "      <td>C123</td>\n",
              "      <td>S</td>\n",
              "      <td>30 to 40</td>\n",
              "      <td>0</td>\n",
              "    </tr>\n",
              "    <tr>\n",
              "      <th>5</th>\n",
              "      <td>0</td>\n",
              "      <td>3</td>\n",
              "      <td>Allen, Mr. William Henry</td>\n",
              "      <td>male</td>\n",
              "      <td>35.000000</td>\n",
              "      <td>0</td>\n",
              "      <td>0</td>\n",
              "      <td>373450</td>\n",
              "      <td>8.0500</td>\n",
              "      <td>NaN</td>\n",
              "      <td>S</td>\n",
              "      <td>30 to 40</td>\n",
              "      <td>1</td>\n",
              "    </tr>\n",
              "    <tr>\n",
              "      <th>...</th>\n",
              "      <td>...</td>\n",
              "      <td>...</td>\n",
              "      <td>...</td>\n",
              "      <td>...</td>\n",
              "      <td>...</td>\n",
              "      <td>...</td>\n",
              "      <td>...</td>\n",
              "      <td>...</td>\n",
              "      <td>...</td>\n",
              "      <td>...</td>\n",
              "      <td>...</td>\n",
              "      <td>...</td>\n",
              "      <td>...</td>\n",
              "    </tr>\n",
              "    <tr>\n",
              "      <th>887</th>\n",
              "      <td>0</td>\n",
              "      <td>2</td>\n",
              "      <td>Montvila, Rev. Juozas</td>\n",
              "      <td>male</td>\n",
              "      <td>27.000000</td>\n",
              "      <td>0</td>\n",
              "      <td>0</td>\n",
              "      <td>211536</td>\n",
              "      <td>13.0000</td>\n",
              "      <td>NaN</td>\n",
              "      <td>S</td>\n",
              "      <td>20 to 30</td>\n",
              "      <td>1</td>\n",
              "    </tr>\n",
              "    <tr>\n",
              "      <th>888</th>\n",
              "      <td>1</td>\n",
              "      <td>1</td>\n",
              "      <td>Graham, Miss. Margaret Edith</td>\n",
              "      <td>female</td>\n",
              "      <td>19.000000</td>\n",
              "      <td>0</td>\n",
              "      <td>0</td>\n",
              "      <td>112053</td>\n",
              "      <td>30.0000</td>\n",
              "      <td>B42</td>\n",
              "      <td>S</td>\n",
              "      <td>10 to 20</td>\n",
              "      <td>0</td>\n",
              "    </tr>\n",
              "    <tr>\n",
              "      <th>889</th>\n",
              "      <td>0</td>\n",
              "      <td>3</td>\n",
              "      <td>Johnston, Miss. Catherine Helen \"Carrie\"</td>\n",
              "      <td>female</td>\n",
              "      <td>29.699118</td>\n",
              "      <td>1</td>\n",
              "      <td>2</td>\n",
              "      <td>W./C. 6607</td>\n",
              "      <td>23.4500</td>\n",
              "      <td>NaN</td>\n",
              "      <td>S</td>\n",
              "      <td>NaN</td>\n",
              "      <td>0</td>\n",
              "    </tr>\n",
              "    <tr>\n",
              "      <th>890</th>\n",
              "      <td>1</td>\n",
              "      <td>1</td>\n",
              "      <td>Behr, Mr. Karl Howell</td>\n",
              "      <td>male</td>\n",
              "      <td>26.000000</td>\n",
              "      <td>0</td>\n",
              "      <td>0</td>\n",
              "      <td>111369</td>\n",
              "      <td>30.0000</td>\n",
              "      <td>C148</td>\n",
              "      <td>C</td>\n",
              "      <td>20 to 30</td>\n",
              "      <td>1</td>\n",
              "    </tr>\n",
              "    <tr>\n",
              "      <th>891</th>\n",
              "      <td>0</td>\n",
              "      <td>3</td>\n",
              "      <td>Dooley, Mr. Patrick</td>\n",
              "      <td>male</td>\n",
              "      <td>32.000000</td>\n",
              "      <td>0</td>\n",
              "      <td>0</td>\n",
              "      <td>370376</td>\n",
              "      <td>7.7500</td>\n",
              "      <td>NaN</td>\n",
              "      <td>Q</td>\n",
              "      <td>30 to 40</td>\n",
              "      <td>1</td>\n",
              "    </tr>\n",
              "  </tbody>\n",
              "</table>\n",
              "<p>891 rows × 13 columns</p>\n",
              "</div>"
            ],
            "text/plain": [
              "             Survived  Pclass  \\\n",
              "PassengerId                     \n",
              "1                   0       3   \n",
              "2                   1       1   \n",
              "3                   1       3   \n",
              "4                   1       1   \n",
              "5                   0       3   \n",
              "...               ...     ...   \n",
              "887                 0       2   \n",
              "888                 1       1   \n",
              "889                 0       3   \n",
              "890                 1       1   \n",
              "891                 0       3   \n",
              "\n",
              "                                                          Name     Sex  \\\n",
              "PassengerId                                                              \n",
              "1                                      Braund, Mr. Owen Harris    male   \n",
              "2            Cumings, Mrs. John Bradley (Florence Briggs Th...  female   \n",
              "3                                       Heikkinen, Miss. Laina  female   \n",
              "4                 Futrelle, Mrs. Jacques Heath (Lily May Peel)  female   \n",
              "5                                     Allen, Mr. William Henry    male   \n",
              "...                                                        ...     ...   \n",
              "887                                      Montvila, Rev. Juozas    male   \n",
              "888                               Graham, Miss. Margaret Edith  female   \n",
              "889                   Johnston, Miss. Catherine Helen \"Carrie\"  female   \n",
              "890                                      Behr, Mr. Karl Howell    male   \n",
              "891                                        Dooley, Mr. Patrick    male   \n",
              "\n",
              "                   Age  SibSp  Parch            Ticket     Fare Cabin  \\\n",
              "PassengerId                                                             \n",
              "1            22.000000      1      0         A/5 21171   7.2500   NaN   \n",
              "2            38.000000      1      0          PC 17599  71.2833   C85   \n",
              "3            26.000000      0      0  STON/O2. 3101282   7.9250   NaN   \n",
              "4            35.000000      1      0            113803  53.1000  C123   \n",
              "5            35.000000      0      0            373450   8.0500   NaN   \n",
              "...                ...    ...    ...               ...      ...   ...   \n",
              "887          27.000000      0      0            211536  13.0000   NaN   \n",
              "888          19.000000      0      0            112053  30.0000   B42   \n",
              "889          29.699118      1      2        W./C. 6607  23.4500   NaN   \n",
              "890          26.000000      0      0            111369  30.0000  C148   \n",
              "891          32.000000      0      0            370376   7.7500   NaN   \n",
              "\n",
              "            Embarked Age_Group  Sex_male  \n",
              "PassengerId                               \n",
              "1                  S  20 to 30         1  \n",
              "2                  C  30 to 40         0  \n",
              "3                  S  20 to 30         0  \n",
              "4                  S  30 to 40         0  \n",
              "5                  S  30 to 40         1  \n",
              "...              ...       ...       ...  \n",
              "887                S  20 to 30         1  \n",
              "888                S  10 to 20         0  \n",
              "889                S       NaN         0  \n",
              "890                C  20 to 30         1  \n",
              "891                Q  30 to 40         1  \n",
              "\n",
              "[891 rows x 13 columns]"
            ]
          },
          "metadata": {},
          "execution_count": 179
        }
      ]
    },
    {
      "cell_type": "code",
      "metadata": {
        "colab": {
          "base_uri": "https://localhost:8080/",
          "height": 440
        },
        "id": "FlrerII_DjKJ",
        "outputId": "e7606ddf-7960-4b89-a406-083be3c37e4e"
      },
      "source": [
        "# Embarked is string, need to hot encode\n",
        "dummies_embarked = pd.get_dummies(train_data['Embarked'], prefix='Embarked', drop_first=True)\n",
        "train_data = pd.concat([train_data, dummies_embarked], axis=1)\n",
        "train_data"
      ],
      "execution_count": null,
      "outputs": [
        {
          "output_type": "execute_result",
          "data": {
            "text/html": [
              "<div>\n",
              "<style scoped>\n",
              "    .dataframe tbody tr th:only-of-type {\n",
              "        vertical-align: middle;\n",
              "    }\n",
              "\n",
              "    .dataframe tbody tr th {\n",
              "        vertical-align: top;\n",
              "    }\n",
              "\n",
              "    .dataframe thead th {\n",
              "        text-align: right;\n",
              "    }\n",
              "</style>\n",
              "<table border=\"1\" class=\"dataframe\">\n",
              "  <thead>\n",
              "    <tr style=\"text-align: right;\">\n",
              "      <th></th>\n",
              "      <th>Survived</th>\n",
              "      <th>Pclass</th>\n",
              "      <th>Name</th>\n",
              "      <th>Sex</th>\n",
              "      <th>Age</th>\n",
              "      <th>SibSp</th>\n",
              "      <th>Parch</th>\n",
              "      <th>Ticket</th>\n",
              "      <th>Fare</th>\n",
              "      <th>Cabin</th>\n",
              "      <th>Embarked</th>\n",
              "      <th>Age_Group</th>\n",
              "      <th>Sex_male</th>\n",
              "      <th>Embarked_Q</th>\n",
              "      <th>Embarked_S</th>\n",
              "    </tr>\n",
              "    <tr>\n",
              "      <th>PassengerId</th>\n",
              "      <th></th>\n",
              "      <th></th>\n",
              "      <th></th>\n",
              "      <th></th>\n",
              "      <th></th>\n",
              "      <th></th>\n",
              "      <th></th>\n",
              "      <th></th>\n",
              "      <th></th>\n",
              "      <th></th>\n",
              "      <th></th>\n",
              "      <th></th>\n",
              "      <th></th>\n",
              "      <th></th>\n",
              "      <th></th>\n",
              "    </tr>\n",
              "  </thead>\n",
              "  <tbody>\n",
              "    <tr>\n",
              "      <th>1</th>\n",
              "      <td>0</td>\n",
              "      <td>3</td>\n",
              "      <td>Braund, Mr. Owen Harris</td>\n",
              "      <td>male</td>\n",
              "      <td>22.000000</td>\n",
              "      <td>1</td>\n",
              "      <td>0</td>\n",
              "      <td>A/5 21171</td>\n",
              "      <td>7.2500</td>\n",
              "      <td>NaN</td>\n",
              "      <td>S</td>\n",
              "      <td>20 to 30</td>\n",
              "      <td>1</td>\n",
              "      <td>0</td>\n",
              "      <td>1</td>\n",
              "    </tr>\n",
              "    <tr>\n",
              "      <th>2</th>\n",
              "      <td>1</td>\n",
              "      <td>1</td>\n",
              "      <td>Cumings, Mrs. John Bradley (Florence Briggs Th...</td>\n",
              "      <td>female</td>\n",
              "      <td>38.000000</td>\n",
              "      <td>1</td>\n",
              "      <td>0</td>\n",
              "      <td>PC 17599</td>\n",
              "      <td>71.2833</td>\n",
              "      <td>C85</td>\n",
              "      <td>C</td>\n",
              "      <td>30 to 40</td>\n",
              "      <td>0</td>\n",
              "      <td>0</td>\n",
              "      <td>0</td>\n",
              "    </tr>\n",
              "    <tr>\n",
              "      <th>3</th>\n",
              "      <td>1</td>\n",
              "      <td>3</td>\n",
              "      <td>Heikkinen, Miss. Laina</td>\n",
              "      <td>female</td>\n",
              "      <td>26.000000</td>\n",
              "      <td>0</td>\n",
              "      <td>0</td>\n",
              "      <td>STON/O2. 3101282</td>\n",
              "      <td>7.9250</td>\n",
              "      <td>NaN</td>\n",
              "      <td>S</td>\n",
              "      <td>20 to 30</td>\n",
              "      <td>0</td>\n",
              "      <td>0</td>\n",
              "      <td>1</td>\n",
              "    </tr>\n",
              "    <tr>\n",
              "      <th>4</th>\n",
              "      <td>1</td>\n",
              "      <td>1</td>\n",
              "      <td>Futrelle, Mrs. Jacques Heath (Lily May Peel)</td>\n",
              "      <td>female</td>\n",
              "      <td>35.000000</td>\n",
              "      <td>1</td>\n",
              "      <td>0</td>\n",
              "      <td>113803</td>\n",
              "      <td>53.1000</td>\n",
              "      <td>C123</td>\n",
              "      <td>S</td>\n",
              "      <td>30 to 40</td>\n",
              "      <td>0</td>\n",
              "      <td>0</td>\n",
              "      <td>1</td>\n",
              "    </tr>\n",
              "    <tr>\n",
              "      <th>5</th>\n",
              "      <td>0</td>\n",
              "      <td>3</td>\n",
              "      <td>Allen, Mr. William Henry</td>\n",
              "      <td>male</td>\n",
              "      <td>35.000000</td>\n",
              "      <td>0</td>\n",
              "      <td>0</td>\n",
              "      <td>373450</td>\n",
              "      <td>8.0500</td>\n",
              "      <td>NaN</td>\n",
              "      <td>S</td>\n",
              "      <td>30 to 40</td>\n",
              "      <td>1</td>\n",
              "      <td>0</td>\n",
              "      <td>1</td>\n",
              "    </tr>\n",
              "    <tr>\n",
              "      <th>...</th>\n",
              "      <td>...</td>\n",
              "      <td>...</td>\n",
              "      <td>...</td>\n",
              "      <td>...</td>\n",
              "      <td>...</td>\n",
              "      <td>...</td>\n",
              "      <td>...</td>\n",
              "      <td>...</td>\n",
              "      <td>...</td>\n",
              "      <td>...</td>\n",
              "      <td>...</td>\n",
              "      <td>...</td>\n",
              "      <td>...</td>\n",
              "      <td>...</td>\n",
              "      <td>...</td>\n",
              "    </tr>\n",
              "    <tr>\n",
              "      <th>887</th>\n",
              "      <td>0</td>\n",
              "      <td>2</td>\n",
              "      <td>Montvila, Rev. Juozas</td>\n",
              "      <td>male</td>\n",
              "      <td>27.000000</td>\n",
              "      <td>0</td>\n",
              "      <td>0</td>\n",
              "      <td>211536</td>\n",
              "      <td>13.0000</td>\n",
              "      <td>NaN</td>\n",
              "      <td>S</td>\n",
              "      <td>20 to 30</td>\n",
              "      <td>1</td>\n",
              "      <td>0</td>\n",
              "      <td>1</td>\n",
              "    </tr>\n",
              "    <tr>\n",
              "      <th>888</th>\n",
              "      <td>1</td>\n",
              "      <td>1</td>\n",
              "      <td>Graham, Miss. Margaret Edith</td>\n",
              "      <td>female</td>\n",
              "      <td>19.000000</td>\n",
              "      <td>0</td>\n",
              "      <td>0</td>\n",
              "      <td>112053</td>\n",
              "      <td>30.0000</td>\n",
              "      <td>B42</td>\n",
              "      <td>S</td>\n",
              "      <td>10 to 20</td>\n",
              "      <td>0</td>\n",
              "      <td>0</td>\n",
              "      <td>1</td>\n",
              "    </tr>\n",
              "    <tr>\n",
              "      <th>889</th>\n",
              "      <td>0</td>\n",
              "      <td>3</td>\n",
              "      <td>Johnston, Miss. Catherine Helen \"Carrie\"</td>\n",
              "      <td>female</td>\n",
              "      <td>29.699118</td>\n",
              "      <td>1</td>\n",
              "      <td>2</td>\n",
              "      <td>W./C. 6607</td>\n",
              "      <td>23.4500</td>\n",
              "      <td>NaN</td>\n",
              "      <td>S</td>\n",
              "      <td>NaN</td>\n",
              "      <td>0</td>\n",
              "      <td>0</td>\n",
              "      <td>1</td>\n",
              "    </tr>\n",
              "    <tr>\n",
              "      <th>890</th>\n",
              "      <td>1</td>\n",
              "      <td>1</td>\n",
              "      <td>Behr, Mr. Karl Howell</td>\n",
              "      <td>male</td>\n",
              "      <td>26.000000</td>\n",
              "      <td>0</td>\n",
              "      <td>0</td>\n",
              "      <td>111369</td>\n",
              "      <td>30.0000</td>\n",
              "      <td>C148</td>\n",
              "      <td>C</td>\n",
              "      <td>20 to 30</td>\n",
              "      <td>1</td>\n",
              "      <td>0</td>\n",
              "      <td>0</td>\n",
              "    </tr>\n",
              "    <tr>\n",
              "      <th>891</th>\n",
              "      <td>0</td>\n",
              "      <td>3</td>\n",
              "      <td>Dooley, Mr. Patrick</td>\n",
              "      <td>male</td>\n",
              "      <td>32.000000</td>\n",
              "      <td>0</td>\n",
              "      <td>0</td>\n",
              "      <td>370376</td>\n",
              "      <td>7.7500</td>\n",
              "      <td>NaN</td>\n",
              "      <td>Q</td>\n",
              "      <td>30 to 40</td>\n",
              "      <td>1</td>\n",
              "      <td>1</td>\n",
              "      <td>0</td>\n",
              "    </tr>\n",
              "  </tbody>\n",
              "</table>\n",
              "<p>891 rows × 15 columns</p>\n",
              "</div>"
            ],
            "text/plain": [
              "             Survived  Pclass  \\\n",
              "PassengerId                     \n",
              "1                   0       3   \n",
              "2                   1       1   \n",
              "3                   1       3   \n",
              "4                   1       1   \n",
              "5                   0       3   \n",
              "...               ...     ...   \n",
              "887                 0       2   \n",
              "888                 1       1   \n",
              "889                 0       3   \n",
              "890                 1       1   \n",
              "891                 0       3   \n",
              "\n",
              "                                                          Name     Sex  \\\n",
              "PassengerId                                                              \n",
              "1                                      Braund, Mr. Owen Harris    male   \n",
              "2            Cumings, Mrs. John Bradley (Florence Briggs Th...  female   \n",
              "3                                       Heikkinen, Miss. Laina  female   \n",
              "4                 Futrelle, Mrs. Jacques Heath (Lily May Peel)  female   \n",
              "5                                     Allen, Mr. William Henry    male   \n",
              "...                                                        ...     ...   \n",
              "887                                      Montvila, Rev. Juozas    male   \n",
              "888                               Graham, Miss. Margaret Edith  female   \n",
              "889                   Johnston, Miss. Catherine Helen \"Carrie\"  female   \n",
              "890                                      Behr, Mr. Karl Howell    male   \n",
              "891                                        Dooley, Mr. Patrick    male   \n",
              "\n",
              "                   Age  SibSp  Parch            Ticket     Fare Cabin  \\\n",
              "PassengerId                                                             \n",
              "1            22.000000      1      0         A/5 21171   7.2500   NaN   \n",
              "2            38.000000      1      0          PC 17599  71.2833   C85   \n",
              "3            26.000000      0      0  STON/O2. 3101282   7.9250   NaN   \n",
              "4            35.000000      1      0            113803  53.1000  C123   \n",
              "5            35.000000      0      0            373450   8.0500   NaN   \n",
              "...                ...    ...    ...               ...      ...   ...   \n",
              "887          27.000000      0      0            211536  13.0000   NaN   \n",
              "888          19.000000      0      0            112053  30.0000   B42   \n",
              "889          29.699118      1      2        W./C. 6607  23.4500   NaN   \n",
              "890          26.000000      0      0            111369  30.0000  C148   \n",
              "891          32.000000      0      0            370376   7.7500   NaN   \n",
              "\n",
              "            Embarked Age_Group  Sex_male  Embarked_Q  Embarked_S  \n",
              "PassengerId                                                       \n",
              "1                  S  20 to 30         1           0           1  \n",
              "2                  C  30 to 40         0           0           0  \n",
              "3                  S  20 to 30         0           0           1  \n",
              "4                  S  30 to 40         0           0           1  \n",
              "5                  S  30 to 40         1           0           1  \n",
              "...              ...       ...       ...         ...         ...  \n",
              "887                S  20 to 30         1           0           1  \n",
              "888                S  10 to 20         0           0           1  \n",
              "889                S       NaN         0           0           1  \n",
              "890                C  20 to 30         1           0           0  \n",
              "891                Q  30 to 40         1           1           0  \n",
              "\n",
              "[891 rows x 15 columns]"
            ]
          },
          "metadata": {},
          "execution_count": 180
        }
      ]
    },
    {
      "cell_type": "markdown",
      "metadata": {
        "id": "1D6oB5w9-Wtb"
      },
      "source": [
        "#3. Model"
      ]
    },
    {
      "cell_type": "markdown",
      "metadata": {
        "id": "4JoiSwrmDfaT"
      },
      "source": [
        "According to the data exploration and the relation matrix and correlation values from the fomer section we consider that the variables 'Pclass','Age','SibSp','Parch','Fare','Sex_male','Embarked_Q','Embarked_S' will be consider for the model"
      ]
    },
    {
      "cell_type": "code",
      "metadata": {
        "id": "lD1bUe7pB2vs",
        "colab": {
          "base_uri": "https://localhost:8080/"
        },
        "outputId": "d87675cb-8ce2-417d-b25d-e509fa0e509d"
      },
      "source": [
        "from sklearn.model_selection import train_test_split\n",
        "\n",
        "X = train_data.loc[:, ['Pclass','Age','SibSp','Parch','Fare','Sex_male','Embarked_Q','Embarked_S']]\n",
        "y = train_data.iloc[:,0]\n",
        "\n",
        "X_train, X_test, y_train, y_test = train_test_split(X, y, test_size=0.2, \n",
        "                                                    random_state=0)\n",
        "print('---------------------------------------------------------')\n",
        "print('\\t\\tTrain Set Shape')\n",
        "print('---------------------------------------------------------')\n",
        "print(X_train.shape)\n",
        "print('---------------------------------------------------------')\n",
        "print('\\t\\tTest Set Shape')\n",
        "print('---------------------------------------------------------')\n",
        "print(X_test.shape)\n",
        "\n"
      ],
      "execution_count": null,
      "outputs": [
        {
          "output_type": "stream",
          "name": "stdout",
          "text": [
            "---------------------------------------------------------\n",
            "\t\tTrain Set Shape\n",
            "---------------------------------------------------------\n",
            "(712, 8)\n",
            "---------------------------------------------------------\n",
            "\t\tTest Set Shape\n",
            "---------------------------------------------------------\n",
            "(179, 8)\n"
          ]
        }
      ]
    },
    {
      "cell_type": "markdown",
      "metadata": {
        "id": "ummDdYG7oIbb"
      },
      "source": [
        "#3.1. Logistic Regression"
      ]
    },
    {
      "cell_type": "code",
      "metadata": {
        "colab": {
          "base_uri": "https://localhost:8080/"
        },
        "id": "NuOzyb5CHvC2",
        "outputId": "cab68221-d412-4c9b-a121-f51a64fcf49b"
      },
      "source": [
        "# Train a logistic regression model \n",
        "#worrbook 3: confusion amtrix, accuracy, cross validation (worbook 4)\n",
        "from sklearn.linear_model import LogisticRegression\n",
        "from sklearn import metrics\n",
        "\n",
        "logreg = LogisticRegression(solver = 'liblinear', multi_class = 'auto')\n",
        "logreg.fit(X_train, y_train)"
      ],
      "execution_count": null,
      "outputs": [
        {
          "output_type": "execute_result",
          "data": {
            "text/plain": [
              "LogisticRegression(C=1.0, class_weight=None, dual=False, fit_intercept=True,\n",
              "                   intercept_scaling=1, l1_ratio=None, max_iter=100,\n",
              "                   multi_class='auto', n_jobs=None, penalty='l2',\n",
              "                   random_state=None, solver='liblinear', tol=0.0001, verbose=0,\n",
              "                   warm_start=False)"
            ]
          },
          "metadata": {},
          "execution_count": 182
        }
      ]
    },
    {
      "cell_type": "code",
      "metadata": {
        "colab": {
          "base_uri": "https://localhost:8080/",
          "height": 653
        },
        "id": "2d57oCVMH3R5",
        "outputId": "13e61c5f-d958-4af0-bdcb-9c8cd9e2023e"
      },
      "source": [
        "#Metrics\n",
        "y_predict = logreg.predict(X_test)\n",
        "print('Contingency Table: \\n')\n",
        "classes = np.unique(y_test)\n",
        "fig, ax = plt.subplots()\n",
        "cm = metrics.confusion_matrix(y_test, y_predict, labels=classes)\n",
        "sns.heatmap(cm, annot=True, fmt='d', cmap=plt.cm.Blues, cbar=False)\n",
        "ax.set(xlabel=\"Predicted Response\", ylabel=\"True Response\", title=\"Confusion matrix\")\n",
        "ax.set_yticklabels(labels=classes, rotation=0)\n",
        "plt.show()\n",
        "print('\\n Accuracy: ',accuracy_score(y_predict, y_test))\n",
        "print('\\n Classification Report: \\n ',classification_report(y_test, y_predict))"
      ],
      "execution_count": null,
      "outputs": [
        {
          "output_type": "stream",
          "name": "stdout",
          "text": [
            "Contingency Table: \n",
            "\n"
          ]
        },
        {
          "output_type": "display_data",
          "data": {
            "image/png": "[encoded data removed]",
            "text/plain": [
              "<Figure size 576x432 with 1 Axes>"
            ]
          },
          "metadata": {}
        },
        {
          "output_type": "stream",
          "name": "stdout",
          "text": [
            "\n",
            " Accuracy:  0.7877094972067039\n",
            "\n",
            " Classification Report: \n",
            "                precision    recall  f1-score   support\n",
            "\n",
            "           0       0.82      0.85      0.83       110\n",
            "           1       0.74      0.70      0.72        69\n",
            "\n",
            "    accuracy                           0.79       179\n",
            "   macro avg       0.78      0.77      0.77       179\n",
            "weighted avg       0.79      0.79      0.79       179\n",
            "\n"
          ]
        }
      ]
    },
    {
      "cell_type": "code",
      "metadata": {
        "colab": {
          "base_uri": "https://localhost:8080/"
        },
        "id": "rKBJXAWPIwG4",
        "outputId": "8df4a22b-0f19-4edb-be6c-bef513ab7937"
      },
      "source": [
        "#Cross Validation for logreg\n",
        "from sklearn.model_selection import cross_val_score\n",
        "\n",
        "cv_means=[]\n",
        "cv_std=[]\n",
        "\n",
        "\n",
        "scores = cross_val_score(logreg, X_train, y_train, cv=10, scoring = \"accuracy\")\n",
        "print(\"Scores:\", scores)\n",
        "print(\"Mean:\", scores.mean())\n",
        "print(\"Standard Deviation:\", scores.std())\n",
        "cv_means.append(scores.mean())\n",
        "cv_std.append(scores.std())\n"
      ],
      "execution_count": null,
      "outputs": [
        {
          "output_type": "stream",
          "name": "stdout",
          "text": [
            "Scores: [0.79166667 0.73611111 0.85915493 0.77464789 0.76056338 0.81690141\n",
            " 0.78873239 0.8028169  0.85915493 0.81690141]\n",
            "Mean: 0.8006651017214399\n",
            "Standard Deviation: 0.03748280676387135\n"
          ]
        }
      ]
    },
    {
      "cell_type": "markdown",
      "metadata": {
        "id": "ClVeAxgkIK9t"
      },
      "source": [
        "Now the logreg model has an average acuracy of 80% and a standar deviation of 3,7%. It dosent make much sense to play with the treshold because we dont have any specific requirments. For the time being lets try other ML models and try to improve the best one\n"
      ]
    },
    {
      "cell_type": "markdown",
      "metadata": {
        "id": "GOnedqAVocqp"
      },
      "source": [
        "#3.2. Linear Discriminant"
      ]
    },
    {
      "cell_type": "code",
      "metadata": {
        "colab": {
          "base_uri": "https://localhost:8080/"
        },
        "id": "xjMUPg4Pow0J",
        "outputId": "8931bb67-8814-4e0a-ea08-50138b8eddbd"
      },
      "source": [
        "from sklearn.discriminant_analysis import LinearDiscriminantAnalysis\n",
        "\n",
        "lda = LinearDiscriminantAnalysis()\n",
        "lda.fit(X_train, y_train)"
      ],
      "execution_count": null,
      "outputs": [
        {
          "output_type": "execute_result",
          "data": {
            "text/plain": [
              "LinearDiscriminantAnalysis(n_components=None, priors=None, shrinkage=None,\n",
              "                           solver='svd', store_covariance=False, tol=0.0001)"
            ]
          },
          "metadata": {},
          "execution_count": 185
        }
      ]
    },
    {
      "cell_type": "code",
      "metadata": {
        "colab": {
          "base_uri": "https://localhost:8080/",
          "height": 653
        },
        "id": "5H1S820tLsQ2",
        "outputId": "3b37c071-32b9-4f31-8576-e5cca0b22d7e"
      },
      "source": [
        "y_predict = lda.predict(X_test)\n",
        "print('Contingency Table: \\n')\n",
        "classes = np.unique(y_test)\n",
        "fig, ax = plt.subplots()\n",
        "cm = metrics.confusion_matrix(y_test, y_predict, labels=classes)\n",
        "sns.heatmap(cm, annot=True, fmt='d', cmap=plt.cm.Blues, cbar=False)\n",
        "ax.set(xlabel=\"Predicted Response\", ylabel=\"True Response\", title=\"Confusion matrix\")\n",
        "ax.set_yticklabels(labels=classes, rotation=0)\n",
        "plt.show()\n",
        "print('\\n Accuracy: ',accuracy_score(y_predict, y_test))\n",
        "print('\\n Classification Report: \\n ',classification_report(y_test, y_predict))"
      ],
      "execution_count": null,
      "outputs": [
        {
          "output_type": "stream",
          "name": "stdout",
          "text": [
            "Contingency Table: \n",
            "\n"
          ]
        },
        {
          "output_type": "display_data",
          "data": {
            "image/png": "[encoded data removed]",
            "text/plain": [
              "<Figure size 576x432 with 1 Axes>"
            ]
          },
          "metadata": {}
        },
        {
          "output_type": "stream",
          "name": "stdout",
          "text": [
            "\n",
            " Accuracy:  0.7932960893854749\n",
            "\n",
            " Classification Report: \n",
            "                precision    recall  f1-score   support\n",
            "\n",
            "           0       0.82      0.85      0.83       110\n",
            "           1       0.74      0.71      0.73        69\n",
            "\n",
            "    accuracy                           0.79       179\n",
            "   macro avg       0.78      0.78      0.78       179\n",
            "weighted avg       0.79      0.79      0.79       179\n",
            "\n"
          ]
        }
      ]
    },
    {
      "cell_type": "code",
      "metadata": {
        "colab": {
          "base_uri": "https://localhost:8080/"
        },
        "id": "BvluyDyHL57o",
        "outputId": "aee0776b-2916-4e5b-e26e-3d808bd8bc81"
      },
      "source": [
        "#Cross Validation for lda\n",
        "\n",
        "scores = cross_val_score(lda, X_train, y_train, cv=10, scoring = \"accuracy\")\n",
        "print(\"Scores:\", scores)\n",
        "print(\"Mean:\", scores.mean())\n",
        "print(\"Standard Deviation:\", scores.std())\n",
        "\n",
        "cv_means.append(scores.mean())\n",
        "cv_std.append(scores.std())"
      ],
      "execution_count": null,
      "outputs": [
        {
          "output_type": "stream",
          "name": "stdout",
          "text": [
            "Scores: [0.79166667 0.73611111 0.85915493 0.8028169  0.76056338 0.78873239\n",
            " 0.78873239 0.8028169  0.85915493 0.81690141]\n",
            "Mean: 0.8006651017214399\n",
            "Standard Deviation: 0.03640894762896071\n"
          ]
        }
      ]
    },
    {
      "cell_type": "markdown",
      "metadata": {
        "id": "M9_tYRCCo5gY"
      },
      "source": [
        "#3.3. Quadratic Discriminant Analysis"
      ]
    },
    {
      "cell_type": "code",
      "metadata": {
        "colab": {
          "base_uri": "https://localhost:8080/"
        },
        "id": "-kNoRRmeo91_",
        "outputId": "f8c7a3ba-8b40-4a50-8a95-bdef3202f785"
      },
      "source": [
        " from sklearn.discriminant_analysis import QuadraticDiscriminantAnalysis\n",
        "\n",
        " qda = QuadraticDiscriminantAnalysis()\n",
        " qda.fit(X_train, y_train)"
      ],
      "execution_count": null,
      "outputs": [
        {
          "output_type": "execute_result",
          "data": {
            "text/plain": [
              "QuadraticDiscriminantAnalysis(priors=None, reg_param=0.0,\n",
              "                              store_covariance=False, tol=0.0001)"
            ]
          },
          "metadata": {},
          "execution_count": 188
        }
      ]
    },
    {
      "cell_type": "code",
      "metadata": {
        "colab": {
          "base_uri": "https://localhost:8080/",
          "height": 653
        },
        "id": "UccNf-e6NsKR",
        "outputId": "9fea8318-5446-47b5-997f-17e6ba55c335"
      },
      "source": [
        "y_predict = qda.predict(X_test)\n",
        "print('Contingency Table: \\n')\n",
        "classes = np.unique(y_test)\n",
        "fig, ax = plt.subplots()\n",
        "cm = metrics.confusion_matrix(y_test, y_predict, labels=classes)\n",
        "sns.heatmap(cm, annot=True, fmt='d', cmap=plt.cm.Blues, cbar=False)\n",
        "ax.set(xlabel=\"Predicted Response\", ylabel=\"True Response\", title=\"Confusion matrix\")\n",
        "ax.set_yticklabels(labels=classes, rotation=0)\n",
        "plt.show()\n",
        "print('\\n Accuracy: ',accuracy_score(y_predict, y_test))\n",
        "print('\\n Classification Report: \\n ',classification_report(y_test, y_predict))"
      ],
      "execution_count": null,
      "outputs": [
        {
          "output_type": "stream",
          "name": "stdout",
          "text": [
            "Contingency Table: \n",
            "\n"
          ]
        },
        {
          "output_type": "display_data",
          "data": {
            "image/png": "[encoded data removed]",
            "text/plain": [
              "<Figure size 576x432 with 1 Axes>"
            ]
          },
          "metadata": {}
        },
        {
          "output_type": "stream",
          "name": "stdout",
          "text": [
            "\n",
            " Accuracy:  0.8100558659217877\n",
            "\n",
            " Classification Report: \n",
            "                precision    recall  f1-score   support\n",
            "\n",
            "           0       0.85      0.84      0.84       110\n",
            "           1       0.75      0.77      0.76        69\n",
            "\n",
            "    accuracy                           0.81       179\n",
            "   macro avg       0.80      0.80      0.80       179\n",
            "weighted avg       0.81      0.81      0.81       179\n",
            "\n"
          ]
        }
      ]
    },
    {
      "cell_type": "code",
      "metadata": {
        "colab": {
          "base_uri": "https://localhost:8080/"
        },
        "id": "kHhkv6O9NzhP",
        "outputId": "60368ddc-a758-40d3-cca9-490a0fc580e1"
      },
      "source": [
        "#Cross Validation for qda\n",
        "\n",
        "scores = cross_val_score(qda, X_train, y_train, cv=10, scoring = \"accuracy\")\n",
        "print(\"Scores:\", scores)\n",
        "print(\"Mean:\", scores.mean())\n",
        "print(\"Standard Deviation:\", scores.std())\n",
        "\n",
        "cv_means.append(scores.mean())\n",
        "cv_std.append(scores.std())"
      ],
      "execution_count": null,
      "outputs": [
        {
          "output_type": "stream",
          "name": "stdout",
          "text": [
            "Scores: [0.80555556 0.75       0.85915493 0.8028169  0.77464789 0.8028169\n",
            " 0.81690141 0.78873239 0.83098592 0.8028169 ]\n",
            "Mean: 0.8034428794992176\n",
            "Standard Deviation: 0.028197364450302388\n"
          ]
        }
      ]
    },
    {
      "cell_type": "markdown",
      "metadata": {
        "id": "7QZH65sWJR6T"
      },
      "source": [
        "#3.4. Naive Bayes"
      ]
    },
    {
      "cell_type": "code",
      "metadata": {
        "colab": {
          "base_uri": "https://localhost:8080/"
        },
        "id": "xnW4JG1hJU4u",
        "outputId": "13d67671-29ee-45a5-9975-2482e8947341"
      },
      "source": [
        "from sklearn.naive_bayes import GaussianNB\n",
        "\n",
        "clf = GaussianNB()\n",
        "clf.fit(X_train, y_train)"
      ],
      "execution_count": null,
      "outputs": [
        {
          "output_type": "execute_result",
          "data": {
            "text/plain": [
              "GaussianNB(priors=None, var_smoothing=1e-09)"
            ]
          },
          "metadata": {},
          "execution_count": 191
        }
      ]
    },
    {
      "cell_type": "code",
      "metadata": {
        "colab": {
          "base_uri": "https://localhost:8080/",
          "height": 653
        },
        "id": "lIeDi0FwOU4m",
        "outputId": "998e4908-9b54-47a9-c6cb-b109ef38ae85"
      },
      "source": [
        "y_predict = clf.predict(X_test)\n",
        "print('Contingency Table: \\n')\n",
        "classes = np.unique(y_test)\n",
        "fig, ax = plt.subplots()\n",
        "cm = metrics.confusion_matrix(y_test, y_predict, labels=classes)\n",
        "sns.heatmap(cm, annot=True, fmt='d', cmap=plt.cm.Blues, cbar=False)\n",
        "ax.set(xlabel=\"Predicted Response\", ylabel=\"True Response\", title=\"Confusion matrix\")\n",
        "ax.set_yticklabels(labels=classes, rotation=0)\n",
        "plt.show()\n",
        "print('\\n Accuracy: ',accuracy_score(y_predict, y_test))\n",
        "print('\\n Classification Report: \\n ',classification_report(y_test, y_predict))"
      ],
      "execution_count": null,
      "outputs": [
        {
          "output_type": "stream",
          "name": "stdout",
          "text": [
            "Contingency Table: \n",
            "\n"
          ]
        },
        {
          "output_type": "display_data",
          "data": {
            "image/png": "[encoded data removed]",
            "text/plain": [
              "<Figure size 576x432 with 1 Axes>"
            ]
          },
          "metadata": {}
        },
        {
          "output_type": "stream",
          "name": "stdout",
          "text": [
            "\n",
            " Accuracy:  0.7932960893854749\n",
            "\n",
            " Classification Report: \n",
            "                precision    recall  f1-score   support\n",
            "\n",
            "           0       0.84      0.82      0.83       110\n",
            "           1       0.72      0.75      0.74        69\n",
            "\n",
            "    accuracy                           0.79       179\n",
            "   macro avg       0.78      0.79      0.78       179\n",
            "weighted avg       0.80      0.79      0.79       179\n",
            "\n"
          ]
        }
      ]
    },
    {
      "cell_type": "code",
      "metadata": {
        "colab": {
          "base_uri": "https://localhost:8080/"
        },
        "id": "NQ-BereJOY6R",
        "outputId": "f2de8654-f77d-4ca3-9055-3b073a9085b4"
      },
      "source": [
        "#Cross Validation for clf\n",
        "\n",
        "scores = cross_val_score(clf, X_train, y_train, cv=10, scoring = \"accuracy\")\n",
        "print(\"Scores:\", scores)\n",
        "print(\"Mean:\", scores.mean())\n",
        "print(\"Standard Deviation:\", scores.std())\n",
        "\n",
        "cv_means.append(scores.mean())\n",
        "cv_std.append(scores.std())"
      ],
      "execution_count": null,
      "outputs": [
        {
          "output_type": "stream",
          "name": "stdout",
          "text": [
            "Scores: [0.77777778 0.70833333 0.83098592 0.77464789 0.74647887 0.78873239\n",
            " 0.8028169  0.8028169  0.85915493 0.78873239]\n",
            "Mean: 0.7880477308294209\n",
            "Standard Deviation: 0.03962890179484011\n"
          ]
        }
      ]
    },
    {
      "cell_type": "markdown",
      "metadata": {
        "id": "i89WR7x8AvyG"
      },
      "source": [
        "#3.4. Decision Tree: Random Forest"
      ]
    },
    {
      "cell_type": "code",
      "metadata": {
        "colab": {
          "base_uri": "https://localhost:8080/"
        },
        "id": "OyYM4TI6A1Dk",
        "outputId": "9fdc89f6-5b66-450d-ea77-92f7480ddc04"
      },
      "source": [
        "from sklearn.ensemble import RandomForestClassifier\n",
        "\n",
        "rf = RandomForestClassifier()\n",
        "rf.fit(X_train, y_train)"
      ],
      "execution_count": null,
      "outputs": [
        {
          "output_type": "execute_result",
          "data": {
            "text/plain": [
              "RandomForestClassifier(bootstrap=True, ccp_alpha=0.0, class_weight=None,\n",
              "                       criterion='gini', max_depth=None, max_features='auto',\n",
              "                       max_leaf_nodes=None, max_samples=None,\n",
              "                       min_impurity_decrease=0.0, min_impurity_split=None,\n",
              "                       min_samples_leaf=1, min_samples_split=2,\n",
              "                       min_weight_fraction_leaf=0.0, n_estimators=100,\n",
              "                       n_jobs=None, oob_score=False, random_state=None,\n",
              "                       verbose=0, warm_start=False)"
            ]
          },
          "metadata": {},
          "execution_count": 194
        }
      ]
    },
    {
      "cell_type": "code",
      "metadata": {
        "colab": {
          "base_uri": "https://localhost:8080/",
          "height": 653
        },
        "id": "FfqeTcqIPE3r",
        "outputId": "10881171-1194-4f08-bbda-1d11b3cdd205"
      },
      "source": [
        "y_predict = rf.predict(X_test)\n",
        "print('Contingency Table: \\n')\n",
        "classes = np.unique(y_test)\n",
        "fig, ax = plt.subplots()\n",
        "cm = metrics.confusion_matrix(y_test, y_predict, labels=classes)\n",
        "sns.heatmap(cm, annot=True, fmt='d', cmap=plt.cm.Blues, cbar=False)\n",
        "ax.set(xlabel=\"Predicted Response\", ylabel=\"True Response\", title=\"Confusion matrix\")\n",
        "ax.set_yticklabels(labels=classes, rotation=0)\n",
        "plt.show()\n",
        "print('\\n Accuracy: ',accuracy_score(y_predict, y_test))\n",
        "print('\\n Classification Report: \\n ',classification_report(y_test, y_predict))"
      ],
      "execution_count": null,
      "outputs": [
        {
          "output_type": "stream",
          "name": "stdout",
          "text": [
            "Contingency Table: \n",
            "\n"
          ]
        },
        {
          "output_type": "display_data",
          "data": {
            "image/png": "[encoded data removed]",
            "text/plain": [
              "<Figure size 576x432 with 1 Axes>"
            ]
          },
          "metadata": {}
        },
        {
          "output_type": "stream",
          "name": "stdout",
          "text": [
            "\n",
            " Accuracy:  0.8379888268156425\n",
            "\n",
            " Classification Report: \n",
            "                precision    recall  f1-score   support\n",
            "\n",
            "           0       0.83      0.92      0.87       110\n",
            "           1       0.84      0.71      0.77        69\n",
            "\n",
            "    accuracy                           0.84       179\n",
            "   macro avg       0.84      0.81      0.82       179\n",
            "weighted avg       0.84      0.84      0.83       179\n",
            "\n"
          ]
        }
      ]
    },
    {
      "cell_type": "code",
      "metadata": {
        "colab": {
          "base_uri": "https://localhost:8080/"
        },
        "id": "Gm1Qxac7PQKl",
        "outputId": "8ab7cd58-fda8-4822-8dc2-b255a9df8f5b"
      },
      "source": [
        "#Cross Validation for rf\n",
        "\n",
        "scores = cross_val_score(rf, X_train, y_train, cv=10, scoring = \"accuracy\")\n",
        "print(\"Scores:\", scores)\n",
        "print(\"Mean:\", scores.mean())\n",
        "print(\"Standard Deviation:\", scores.std())\n",
        "\n",
        "cv_means.append(scores.mean())\n",
        "cv_std.append(scores.std())"
      ],
      "execution_count": null,
      "outputs": [
        {
          "output_type": "stream",
          "name": "stdout",
          "text": [
            "Scores: [0.79166667 0.79166667 0.8028169  0.78873239 0.8028169  0.78873239\n",
            " 0.74647887 0.73239437 0.81690141 0.83098592]\n",
            "Mean: 0.7893192488262911\n",
            "Standard Deviation: 0.02819345574991623\n"
          ]
        }
      ]
    },
    {
      "cell_type": "markdown",
      "metadata": {
        "id": "1jfjFGIiRAdQ"
      },
      "source": [
        "These models could have been made with a list and a for loop to get the results. However for visualization reasons we did it this way. Now we will make a graph to compare them"
      ]
    },
    {
      "cell_type": "code",
      "metadata": {
        "colab": {
          "base_uri": "https://localhost:8080/",
          "height": 560
        },
        "id": "Hg1eyrIqRGSD",
        "outputId": "63bb8258-d52f-497d-cb24-dfad5afee9dc"
      },
      "source": [
        "models=['Logistic Regression', 'Linear Discriminant', 'Quadratis Discrminant Analayis', 'Naive Bayes', 'Random Forest']\n",
        "\n",
        "cv_frame = pd.DataFrame(\n",
        "    {\n",
        "        \"CrossValMeans\":cv_means,\n",
        "        \"CrossValErrors\": cv_std,\n",
        "        \"Algorithms\":models\n",
        "    })\n",
        "cv_plot = sns.barplot(\"CrossValMeans\",\"Algorithms\", data = cv_frame, orient = \"h\", **{'xerr':cv_std})\n",
        "\n",
        "cv_plot.set_xlabel(\"Mean Accuracy\")\n",
        "cv_plot = cv_plot.set_title(\"CV Scores\")\n",
        "\n",
        "print(cv_frame)"
      ],
      "execution_count": null,
      "outputs": [
        {
          "output_type": "stream",
          "name": "stdout",
          "text": [
            "   CrossValMeans  CrossValErrors                      Algorithms\n",
            "0       0.800665        0.037483             Logistic Regression\n",
            "1       0.800665        0.036409             Linear Discriminant\n",
            "2       0.803443        0.028197  Quadratis Discrminant Analayis\n",
            "3       0.788048        0.039629                     Naive Bayes\n",
            "4       0.789319        0.028193                   Random Forest\n"
          ]
        },
        {
          "output_type": "stream",
          "name": "stderr",
          "text": [
            "/usr/local/lib/python3.7/dist-packages/seaborn/_decorators.py:43: FutureWarning: Pass the following variables as keyword args: x, y. From version 0.12, the only valid positional argument will be `data`, and passing other arguments without an explicit keyword will result in an error or misinterpretation.\n",
            "  FutureWarning\n"
          ]
        },
        {
          "output_type": "display_data",
          "data": {
            "image/png": "[encoded data removed]",
            "text/plain": [
              "<Figure size 576x432 with 1 Axes>"
            ]
          },
          "metadata": {}
        }
      ]
    },
    {
      "cell_type": "markdown",
      "metadata": {
        "id": "L7RoRV_ySxjk"
      },
      "source": [
        "From this graph Random Forest looks like a good candidate to explore further. Random Forest has a good cross validation mean and not that big variance. "
      ]
    },
    {
      "cell_type": "code",
      "metadata": {
        "colab": {
          "base_uri": "https://localhost:8080/",
          "height": 713
        },
        "id": "uiveDUszWoRh",
        "outputId": "a82f9680-8e1e-497e-e980-d2449b35d53b"
      },
      "source": [
        "#Lets start with the importance of each one the variables used to predict\n",
        "\n",
        "importances = pd.DataFrame({'feature':X_train.columns,'importance':np.round(rf.feature_importances_,3)})\n",
        "importances = importances.sort_values('importance',ascending=False).set_index('feature')\n",
        "\n",
        "print('---------------------------------------------------------')\n",
        "print('\\t\\tTable with value of imporatance')\n",
        "print('---------------------------------------------------------')\n",
        "print(importances)\n",
        "\n",
        "print('---------------------------------------------------------')\n",
        "importances.plot.bar()\n",
        "plt.title('Importance of features for Model')\n",
        "plt.ylabel('Importance value')\n",
        "\n"
      ],
      "execution_count": null,
      "outputs": [
        {
          "output_type": "stream",
          "name": "stdout",
          "text": [
            "---------------------------------------------------------\n",
            "\t\tTable with value of imporatance\n",
            "---------------------------------------------------------\n",
            "            importance\n",
            "feature               \n",
            "Fare             0.270\n",
            "Age              0.269\n",
            "Sex_male         0.256\n",
            "Pclass           0.078\n",
            "SibSp            0.051\n",
            "Parch            0.042\n",
            "Embarked_S       0.021\n",
            "Embarked_Q       0.012\n",
            "---------------------------------------------------------\n"
          ]
        },
        {
          "output_type": "execute_result",
          "data": {
            "text/plain": [
              "Text(0, 0.5, 'Importance value')"
            ]
          },
          "metadata": {},
          "execution_count": 198
        },
        {
          "output_type": "display_data",
          "data": {
            "image/png": "[encoded data removed]",
            "text/plain": [
              "<Figure size 576x432 with 1 Axes>"
            ]
          },
          "metadata": {}
        }
      ]
    },
    {
      "cell_type": "markdown",
      "metadata": {
        "id": "SHwjsoJyfEc0"
      },
      "source": [
        "Embarked doesn’t play a significant role in our random forest classifiers prediction process. Because of that I will drop them from the dataset and train the classifier again."
      ]
    },
    {
      "cell_type": "code",
      "metadata": {
        "colab": {
          "base_uri": "https://localhost:8080/"
        },
        "id": "ZFTRCVj5fKMC",
        "outputId": "dbc713cb-f79e-4e90-ca56-620087cecfe7"
      },
      "source": [
        "X_train_new  = X_train.drop(\"Embarked_S\", axis=1)\n",
        "X_test_new  = X_test.drop(\"Embarked_S\", axis=1)\n",
        "\n",
        "X_train_new  = X_train.drop(\"Embarked_Q\", axis=1)\n",
        "X_test_new  = X_test.drop(\"Embarked_Q\", axis=1)\n",
        "\n",
        "new_random_forest=RandomForestClassifier(n_estimators=100, oob_score = True)\n",
        "new_random_forest.fit(X_train_new, y_train)"
      ],
      "execution_count": null,
      "outputs": [
        {
          "output_type": "execute_result",
          "data": {
            "text/plain": [
              "RandomForestClassifier(bootstrap=True, ccp_alpha=0.0, class_weight=None,\n",
              "                       criterion='gini', max_depth=None, max_features='auto',\n",
              "                       max_leaf_nodes=None, max_samples=None,\n",
              "                       min_impurity_decrease=0.0, min_impurity_split=None,\n",
              "                       min_samples_leaf=1, min_samples_split=2,\n",
              "                       min_weight_fraction_leaf=0.0, n_estimators=100,\n",
              "                       n_jobs=None, oob_score=True, random_state=None,\n",
              "                       verbose=0, warm_start=False)"
            ]
          },
          "metadata": {},
          "execution_count": 199
        }
      ]
    },
    {
      "cell_type": "code",
      "metadata": {
        "colab": {
          "base_uri": "https://localhost:8080/",
          "height": 653
        },
        "id": "ZsDrC9ZWgNY4",
        "outputId": "44edd479-f1cb-4fa1-f9ee-1a66bc605025"
      },
      "source": [
        "y_predict = new_random_forest.predict(X_test_new)\n",
        "print('Contingency Table: \\n')\n",
        "classes = np.unique(y_test)\n",
        "fig, ax = plt.subplots()\n",
        "cm = metrics.confusion_matrix(y_test, y_predict, labels=classes)\n",
        "sns.heatmap(cm, annot=True, fmt='d', cmap=plt.cm.Blues, cbar=False)\n",
        "ax.set(xlabel=\"Predicted Response\", ylabel=\"True Response\", title=\"Confusion matrix\")\n",
        "ax.set_yticklabels(labels=classes, rotation=0)\n",
        "plt.show()\n",
        "print('\\n Accuracy: ',accuracy_score(y_predict, y_test))\n",
        "print('\\n Classification Report: \\n ',classification_report(y_test, y_predict))"
      ],
      "execution_count": null,
      "outputs": [
        {
          "output_type": "stream",
          "name": "stdout",
          "text": [
            "Contingency Table: \n",
            "\n"
          ]
        },
        {
          "output_type": "display_data",
          "data": {
            "image/png": "[encoded data removed]",
            "text/plain": [
              "<Figure size 576x432 with 1 Axes>"
            ]
          },
          "metadata": {}
        },
        {
          "output_type": "stream",
          "name": "stdout",
          "text": [
            "\n",
            " Accuracy:  0.8379888268156425\n",
            "\n",
            " Classification Report: \n",
            "                precision    recall  f1-score   support\n",
            "\n",
            "           0       0.84      0.91      0.87       110\n",
            "           1       0.83      0.72      0.78        69\n",
            "\n",
            "    accuracy                           0.84       179\n",
            "   macro avg       0.84      0.82      0.82       179\n",
            "weighted avg       0.84      0.84      0.84       179\n",
            "\n"
          ]
        }
      ]
    },
    {
      "cell_type": "code",
      "metadata": {
        "colab": {
          "base_uri": "https://localhost:8080/"
        },
        "id": "qC-V24GVjY-O",
        "outputId": "f1b304c2-a4b9-49a7-9e8e-5cf348c24a6b"
      },
      "source": [
        "scores = cross_val_score(new_random_forest, X_train, y_train, cv=10, scoring = \"accuracy\")\n",
        "print(\"Scores:\", scores)\n",
        "print(\"Mean:\", scores.mean())\n",
        "print(\"Standard Deviation:\", scores.std())\n",
        "\n",
        "cv_means.append(scores.mean())\n",
        "cv_std.append(scores.std())"
      ],
      "execution_count": null,
      "outputs": [
        {
          "output_type": "stream",
          "name": "stdout",
          "text": [
            "Scores: [0.80555556 0.80555556 0.8028169  0.8028169  0.84507042 0.77464789\n",
            " 0.77464789 0.73239437 0.84507042 0.81690141]\n",
            "Mean: 0.8005477308294211\n",
            "Standard Deviation: 0.03206075905264658\n"
          ]
        }
      ]
    },
    {
      "cell_type": "markdown",
      "metadata": {
        "id": "VveruMGTiLbZ"
      },
      "source": [
        "As we see the result are slightly better. We started with the data exploration where we got a feeling for the dataset, checked about missing data and learned which features are important. Afterwards we started training different machine learning models, picked one of them (random forest) and try to apply some methos to imporve it. "
      ]
    },
    {
      "cell_type": "markdown",
      "metadata": {
        "id": "T83DjEzr79Ob"
      },
      "source": [
        "# Bibliography"
      ]
    },
    {
      "cell_type": "markdown",
      "metadata": {
        "id": "UY96GEKU8AQx"
      },
      "source": [
        "\n",
        "\n",
        "*   Plot With Pandas. URL: https://realpython.com/pandas-plot-python/ \n",
        "*   Machine Learning with Python: Classification (complete tutorial). URL: https://towardsdatascience.com/machine-learning-with-python-classification-complete-tutorial-d2c99dc524ec\n",
        "*   Course Notes. Statistical Machine Learning. McGill. Fall 2021\n",
        "*   A Titanic Probability. URL: https://web.stanford.edu/class/archive/cs/cs109/cs109.1166/problem12.html\n",
        "*   Toward Data Science. Predicting survival of titanic passengers URL: https://towardsdatascience.com/predicting-the-survival-of-titanic-passengers-30870ccc7e8\n",
        "\n",
        "\n",
        "\n",
        "\n",
        "\n",
        "\n"
      ]
    }
  ]
}